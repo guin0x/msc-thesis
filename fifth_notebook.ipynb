{
 "cells": [
  {
   "cell_type": "code",
   "execution_count": null,
   "metadata": {},
   "outputs": [],
   "source": [
    "from utils.fast_cmod5n import *\n",
    "from utils.functions import *\n",
    "from pathlib import Path"
   ]
  },
  {
   "cell_type": "code",
   "execution_count": null,
   "metadata": {},
   "outputs": [],
   "source": [
    "processed_data_path = Path(\"processed_data\")\n",
    "df_wv1 = pd.read_parquet(processed_data_path / 'wv1_complete.parquet')\n",
    "df_wv2 = pd.read_parquet(processed_data_path / 'wv2_complete.parquet')"
   ]
  },
  {
   "cell_type": "code",
   "execution_count": null,
   "metadata": {},
   "outputs": [],
   "source": [
    "new_column_names = ['band0_wspd_mean',\n",
    " 'band0_wspd_median',\n",
    " 'band0_error_mean',\n",
    " 'band0_error_median',\n",
    " 'band0_abs_error_mean',\n",
    " 'band0_rel_error_mean',\n",
    " 'band0_rmse',\n",
    " 'band1_wspd_mean',\n",
    " 'band1_wspd_median',\n",
    " 'band1_error_mean',\n",
    " 'band1_error_median',\n",
    " 'band1_abs_error_mean',\n",
    " 'band1_rel_error_mean',\n",
    " 'band1_rmse',\n",
    " 'band2_wspd_mean',\n",
    " 'band2_wspd_median',\n",
    " 'band2_error_mean',\n",
    " 'band2_error_median',\n",
    " 'band2_abs_error_mean',\n",
    " 'band2_rel_error_mean',\n",
    " 'band2_rmse']\n"
   ]
  },
  {
   "cell_type": "code",
   "execution_count": null,
   "metadata": {},
   "outputs": [],
   "source": [
    "print(\"Commencing spectral wind error calculation for df1...\")\n",
    "\n",
    "df_wv1[new_column_names] = df_wv1.apply(lambda x: compute_spectral_wind_errors(\n",
    "    x.path_to_sar_file, x.wspd, x.wdir_deg_from_north), axis=1, result_type=\"expand\")\n",
    "\n",
    "print(\"Commencing spectral wind error calculation for df2...\")\n",
    "df_wv2[new_column_names] = df_wv2.apply(lambda x: compute_spectral_wind_errors(\n",
    "    x.path_to_sar_file, x.wspd, x.wdir_deg_from_north), axis=1, result_type=\"expand\")\n",
    "\n",
    "# write to parquet\n",
    "print(\"Writing df1 to parquet...\")\n",
    "df_wv1.to_parquet(processed_data_path / 'wv1_complete.parquet')\n",
    "print(\"Writing df2 to parquet...\")\n",
    "df_wv2.to_parquet(processed_data_path / 'wv2_complete.parquet')\n",
    "print(\"Done.\")"
   ]
  }
 ],
 "metadata": {
  "kernelspec": {
   "display_name": "msc-thesis",
   "language": "python",
   "name": "python3"
  },
  "language_info": {
   "codemirror_mode": {
    "name": "ipython",
    "version": 3
   },
   "file_extension": ".py",
   "mimetype": "text/x-python",
   "name": "python",
   "nbconvert_exporter": "python",
   "pygments_lexer": "ipython3",
   "version": "3.9.21"
  }
 },
 "nbformat": 4,
 "nbformat_minor": 2
}
