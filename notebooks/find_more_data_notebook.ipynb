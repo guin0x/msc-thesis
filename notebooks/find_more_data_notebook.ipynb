{
 "cells": [
  {
   "cell_type": "code",
   "execution_count": 1,
   "id": "1004aba7",
   "metadata": {},
   "outputs": [],
   "source": [
    "import pandas as pd\n",
    "from glob import glob\n",
    "import sys\n",
    "import os\n",
    "\n",
    "project_root = os.path.dirname(os.path.dirname(os.path.abspath('__file__')))\n",
    "sys.path.append(project_root)\n",
    "\n",
    "from utils.functions import filter_similar_atmospheric_conditions"
   ]
  },
  {
   "cell_type": "code",
   "execution_count": 2,
   "id": "be68ebad",
   "metadata": {},
   "outputs": [
    {
     "name": "stdout",
     "output_type": "stream",
     "text": [
      "720678 685889 736103 709018\n"
     ]
    }
   ],
   "source": [
    "\n",
    "\n",
    "all_files = glob(\"../unprocessed_data/*parquet\")\n",
    "\n",
    "s1a2020 = pd.read_parquet(all_files[0])\n",
    "s1a2021 = pd.read_parquet(all_files[1])\n",
    "s1b2020 = pd.read_parquet(all_files[2])\n",
    "s1b2021 = pd.read_parquet(all_files[3])\n",
    "\n",
    "print(len(s1a2020), len(s1a2021), len(s1b2020), len(s1b2021))"
   ]
  },
  {
   "cell_type": "code",
   "execution_count": 3,
   "id": "1f044a51",
   "metadata": {},
   "outputs": [],
   "source": [
    "def remove_sea_ice(df):\n",
    "    df = df[df[\"class_1\"] != \"SI\"]\n",
    "    df = df[df[\"class_2\"] != \"SI\"]\n",
    "    df = df[df[\"class_3\"] != \"SI\"]\n",
    "\n",
    "    return df\n",
    "\n",
    "s1a2020 = remove_sea_ice(s1a2020)\n",
    "s1a2021 = remove_sea_ice(s1a2021)\n",
    "s1b2020 = remove_sea_ice(s1b2020)\n",
    "s1b2021 = remove_sea_ice(s1b2021)\n",
    "\n",
    "\n",
    "\n"
   ]
  },
  {
   "cell_type": "code",
   "execution_count": 7,
   "id": "6dc0f67c",
   "metadata": {},
   "outputs": [
    {
     "name": "stdout",
     "output_type": "stream",
     "text": [
      "2006967\n"
     ]
    }
   ],
   "source": [
    "wspd_bin = (3, 15)\n",
    "L_bin = (-10e9, -0.1)\n",
    "\n",
    "s1a2020 = filter_similar_atmospheric_conditions(s1a2020, wspd_range=wspd_bin, L_range=L_bin)\n",
    "s1a2021 = filter_similar_atmospheric_conditions(s1a2021, wspd_range=wspd_bin, L_range=L_bin)\n",
    "\n",
    "s1b2020 = filter_similar_atmospheric_conditions(s1b2020, wspd_range=wspd_bin, L_range=L_bin)\n",
    "s1b2021 = filter_similar_atmospheric_conditions(s1b2021, wspd_range=wspd_bin, L_range=L_bin)\n",
    "\n",
    "print(len(s1a2020) + len(s1a2021) + len(s1b2020) + len(s1b2021))\n"
   ]
  },
  {
   "cell_type": "code",
   "execution_count": 13,
   "id": "eb04bfd7",
   "metadata": {},
   "outputs": [
    {
     "data": {
      "text/plain": [
       "Index(['value', 'wm_type', 'lonlat_center', 'tif_path', 'process_status',\n",
       "       'class_1', 'prob_1', 'class_2', 'prob_2', 'class_3', 'prob_3',\n",
       "       'all_prob', 'processing_time', 'filename', 'date_time', 'latitude',\n",
       "       'longitude', 'L', 'wspd', 'wdir', 'sst', 'airt', 'p', 'rh', 'blh',\n",
       "       'msdwswrf', 'msdwlwrf', 'air_sea_diff'],\n",
       "      dtype='object')"
      ]
     },
     "execution_count": 13,
     "metadata": {},
     "output_type": "execute_result"
    }
   ],
   "source": [
    "s1a2020.columns"
   ]
  }
 ],
 "metadata": {
  "kernelspec": {
   "display_name": "msc-thesis",
   "language": "python",
   "name": "python3"
  },
  "language_info": {
   "codemirror_mode": {
    "name": "ipython",
    "version": 3
   },
   "file_extension": ".py",
   "mimetype": "text/x-python",
   "name": "python",
   "nbconvert_exporter": "python",
   "pygments_lexer": "ipython3",
   "version": "3.9.22"
  }
 },
 "nbformat": 4,
 "nbformat_minor": 5
}
