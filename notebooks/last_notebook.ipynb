{
 "cells": [
  {
   "cell_type": "code",
   "execution_count": 70,
   "id": "244917ac",
   "metadata": {},
   "outputs": [],
   "source": [
    "import pandas as pd\n",
    "import xarray as xr\n",
    "from glob import glob\n",
    "from pathlib import Path\n",
    "import os\n",
    "import numpy as np\n",
    "import matplotlib.pyplot as plt\n",
    "from matplotlib.patches import Arrow\n",
    "# from ../utils.cmod5n import cmod5n_forward, cmod5n_inverse"
   ]
  },
  {
   "cell_type": "code",
   "execution_count": 71,
   "id": "d12d5d4f",
   "metadata": {},
   "outputs": [],
   "source": [
    "df1 = pd.read_parquet(\"../processed_data/wv1_complete.parquet\")\n",
    "df2 = pd.read_parquet(\"../processed_data/wv2_complete.parquet\")\n",
    "\n",
    "# df1_result = pd.read_parquet(\"../results_v2/wv1_results.parquet\")\n"
   ]
  },
  {
   "cell_type": "code",
   "execution_count": 77,
   "id": "8b98a7c3",
   "metadata": {},
   "outputs": [],
   "source": [
    "bins = np.arange(-180, 185, 5)\n",
    "df1[\"phi_bins\"] = pd.cut(df1[\"phi_nominal_median\"], bins=bins, right=False).astype(str)\n",
    "df2[\"phi_bins\"] = pd.cut(df2[\"phi_nominal_median\"], bins=bins, right=False).astype(str)\n",
    "\n"
   ]
  },
  {
   "cell_type": "code",
   "execution_count": null,
   "id": "df5f86ad",
   "metadata": {},
   "outputs": [],
   "source": [
    "df1.to_parquet(\"../processed_data/wv1_complete.parquet\")\n",
    "df2"
   ]
  },
  {
   "cell_type": "code",
   "execution_count": 53,
   "id": "43e0e36f",
   "metadata": {},
   "outputs": [],
   "source": [
    "df1_0_5 = df1[df1[\"phi_bins\"].astype(str) == \"[0, 5)\"]\n"
   ]
  },
  {
   "cell_type": "code",
   "execution_count": 55,
   "id": "b5c714cc",
   "metadata": {},
   "outputs": [],
   "source": [
    "df1_result[\"renamed_filename\"] = df1_result[\"sar_filepath\"].str.split(\"/\").str[-1]"
   ]
  },
  {
   "cell_type": "code",
   "execution_count": 59,
   "id": "4d77824e",
   "metadata": {},
   "outputs": [
    {
     "data": {
      "text/plain": [
       "0        S1A_WV_SLC__1SSV_20211204T035052_20211204T0408...\n",
       "1        S1A_WV_SLC__1SSV_20211204T150725_20211204T1516...\n",
       "2        S1A_WV_SLC__1SSV_20211204T155812_20211204T1606...\n",
       "3        S1A_WV_SLC__1SSV_20211204T035052_20211204T0408...\n",
       "4        S1A_WV_SLC__1SSV_20211204T164625_20211204T1652...\n",
       "                               ...                        \n",
       "36916    S1A_WV_SLC__1SSV_20200808T122815_20200808T1252...\n",
       "36917    S1A_WV_SLC__1SSV_20200808T105700_20200808T1112...\n",
       "36918    S1A_WV_SLC__1SSV_20200808T105700_20200808T1112...\n",
       "36919    S1A_WV_SLC__1SSV_20200808T105700_20200808T1112...\n",
       "36920    S1A_WV_SLC__1SSV_20200808T105700_20200808T1112...\n",
       "Name: renamed_filename, Length: 36921, dtype: object"
      ]
     },
     "execution_count": 59,
     "metadata": {},
     "output_type": "execute_result"
    }
   ],
   "source": [
    "df1_result[\"renamed_filename\"]"
   ]
  },
  {
   "cell_type": "code",
   "execution_count": 65,
   "id": "baa8e3ad",
   "metadata": {},
   "outputs": [],
   "source": [
    "df1_result_0_5 = df1_result[df1_result[\"renamed_filename\"].isin(df1_0_5[\"renamed_filename\"])]"
   ]
  },
  {
   "cell_type": "code",
   "execution_count": 69,
   "id": "ffc82fc7",
   "metadata": {},
   "outputs": [
    {
     "data": {
      "text/plain": [
       "Index(['sar_filepath', 'era5_wspd', 'era5_wdir', 'wspd_perturbed',\n",
       "       'wdir_perturbed', 'phi_perturbed', 'phi_nominal',\n",
       "       'wspd_perturbed_strong', 'wdir_perturbed_strong',\n",
       "       'phi_perturbed_strong', 'sigma_sar_median', 'sigma_cmod_median',\n",
       "       'errors_band0a', 'errors_band0b', 'errors_band0c', 'errors_band1',\n",
       "       'errors_band2', 'ratio_band0a', 'ratio_band0b', 'ratio_band0c',\n",
       "       'ratio_band1', 'ratio_band2', 'coherence_metrics',\n",
       "       'sensitivity_metrics', 'errors_mix1', 'errors_mix2', 'errors_mix3',\n",
       "       'errors_mix4', 'errors_no_mix', 'kw_statistic', 'kw_p_value',\n",
       "       'is_scale_dependent', 'renamed_filename'],\n",
       "      dtype='object')"
      ]
     },
     "execution_count": 69,
     "metadata": {},
     "output_type": "execute_result"
    }
   ],
   "source": [
    "df1_result.columns"
   ]
  }
 ],
 "metadata": {
  "kernelspec": {
   "display_name": "msc-thesis",
   "language": "python",
   "name": "python3"
  },
  "language_info": {
   "codemirror_mode": {
    "name": "ipython",
    "version": 3
   },
   "file_extension": ".py",
   "mimetype": "text/x-python",
   "name": "python",
   "nbconvert_exporter": "python",
   "pygments_lexer": "ipython3",
   "version": "3.9.21"
  }
 },
 "nbformat": 4,
 "nbformat_minor": 5
}
