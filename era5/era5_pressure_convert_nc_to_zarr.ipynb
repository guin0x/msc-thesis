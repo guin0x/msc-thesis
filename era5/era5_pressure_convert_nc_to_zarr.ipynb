{
 "cells": [
  {
   "cell_type": "code",
   "execution_count": 1,
   "id": "dbe628f0-a511-4cd1-9298-af7658a19f61",
   "metadata": {},
   "outputs": [],
   "source": [
    "import os\n",
    "import re\n",
    "import glob\n",
    "import xarray as xr\n",
    "import numpy as np\n",
    "from pathlib import Path\n",
    "from typing import Union, Optional, Callable\n",
    "from tqdm import tqdm\n",
    "import dask\n",
    "import dask.array as da\n",
    "from dask.diagnostics import ProgressBar\n",
    "from dask.distributed import Client, LocalCluster, progress\n",
    "import cmcrameri.cm as cmc"
   ]
  },
  {
   "cell_type": "code",
   "execution_count": 2,
   "id": "60d4557a-d3ae-4ad3-a9cb-6087f32e36ee",
   "metadata": {},
   "outputs": [],
   "source": [
    "def find_years_and_variables(list_files: list[str]) -> tuple[list[str], list[str]]: \n",
    "    years = set()\n",
    "    variables = set()\n",
    "    \n",
    "    for file in list_files:\n",
    "        # Extract the year (4 digits) and variable name (anything before .nc after the coordinates)\n",
    "        match = re.search(r'/(\\d{4})-\\d{2}_\$$.*?\$$_(.*)\\.nc$', file)\n",
    "        if match:\n",
    "            year = match.group(1)\n",
    "            variable = match.group(2)\n",
    "            \n",
    "            # Add to sets to ensure uniqueness\n",
    "            years.add(year)\n",
    "            variables.add(variable)\n",
    "    \n",
    "    # Convert sets to sorted lists\n",
    "    years = sorted(list(years))\n",
    "    variables = sorted(list(variables))\n",
    "\n",
    "    return years, variables\n",
    "\n",
    "\n",
    "def select_data_common_year_variable(year: str, variable: str, list_files: list[str]) -> list[str]:\n",
    "\n",
    "    filter_conditions = rf\"(?=.*{year}-0[1-9]|.*{year}-1[0-2])(?=.*{variable})\"\n",
    "    \n",
    "    return [file for file in list_files if re.search(filter_conditions,file)]\n",
    "\n",
    "\n",
    "def preprocess_drop_coord(ds: xr.Dataset, coord_to_drop: str|list[str] = [\"expver\", \"surface\"]):\n",
    "    return ds.drop_vars(coord_to_drop, errors='ignore')\n",
    "\n",
    "\n",
    "def convert_nc_to_zarr(file_list, output_zarr_path, chunk_dict: Union[dict, str] = \"auto\", preprocess: Optional[Callable]=None):\n",
    "    \n",
    "    ds = xr.open_mfdataset(file_list, \n",
    "                           combine='by_coords',\n",
    "                           engine=\"h5netcdf\",\n",
    "                           parallel=True,\n",
    "                           # decode_cf=False,\n",
    "                           preprocess=preprocess,\n",
    "                           coords=\"minimal\",\n",
    "                          ).chunk(chunk_dict)\n",
    "\n",
    "    with ProgressBar():\n",
    "        ds.to_zarr(output_zarr_path, mode='w', consolidated=True)\n",
    "\n",
    "@dask.delayed\n",
    "def save_zarr_dask(list_files: list[str], output_file: str, chunk_dict: Union[dict, str] = \"auto\", preprocess: Optional[Callable]=None): \n",
    "    try:\n",
    "        if os.path.exists(output_file):\n",
    "            print(f\"path already exists, skipping: {output_zarr_path}\")\n",
    "        else:\n",
    "            convert_nc_to_zarr(list_files, output_file, chunk_dict, preprocess=preprocess)\n",
    "    except Exception as e:\n",
    "        print(f\"error!: \\n{e}\")\n",
    "        "
   ]
  },
  {
   "cell_type": "code",
   "execution_count": 3,
   "id": "e66c7978-b670-4e55-a7f2-75cddcef43d0",
   "metadata": {},
   "outputs": [],
   "source": [
    "data_dir = \"/scratch/opodriscoll/data/ERA5\"\n",
    "\n",
    "list_files = glob.glob(str(data_dir) + \"/*.nc\")\n",
    "\n",
    "dict_chunk = {\n",
    "    \"valid_time\": 200,\n",
    "    \"latitude\": 200,\n",
    "    \"longitude\": 200,\n",
    "}\n",
    "\n",
    "years, variables = find_years_and_variables(list_files)"
   ]
  },
  {
   "cell_type": "code",
   "execution_count": 4,
   "id": "510a2d3e-0e4a-45ee-8d6b-8ef33dd9b679",
   "metadata": {},
   "outputs": [],
   "source": [
    "variables = ['temperature', 'relative_humidity']"
   ]
  },
  {
   "cell_type": "code",
   "execution_count": 7,
   "id": "13319805-3021-454d-9dcd-0504d6b3be4c",
   "metadata": {},
   "outputs": [],
   "source": [
    "with LocalCluster() as cluster, Client(cluster) as client:\n",
    "    \n",
    "    outputs = []\n",
    "    \n",
    "    for year in years:\n",
    "        for variable in variables:\n",
    "    \n",
    "            data_str_filt = select_data_common_year_variable(year=year, variable=variable, list_files=list_files)\n",
    "                    \n",
    "            output_zarr_path = f\"/scratch/opodriscoll/data/ERA5/{year}_{variable}.zarr\"\n",
    "    \n",
    "            output = save_zarr_dask(\n",
    "                list_files=data_str_filt,\n",
    "                output_file=output_zarr_path,\n",
    "                chunk_dict=dict_chunk,\n",
    "                preprocess=preprocess_drop_coord\n",
    "            )\n",
    "            outputs.append(output)\n",
    "\n",
    "    dask.compute(outputs[:4])\n",
    "            "
   ]
  },
  {
   "cell_type": "markdown",
   "id": "6b22fc4b-c69f-4f1e-8780-53f7557a3dd0",
   "metadata": {},
   "source": [
    "## Confirm successful storage "
   ]
  },
  {
   "cell_type": "code",
   "execution_count": 5,
   "id": "1d577078-516f-430f-bcdb-8da27cef06b0",
   "metadata": {
    "editable": true,
    "slideshow": {
     "slide_type": ""
    },
    "tags": []
   },
   "outputs": [
    {
     "data": {
      "text/plain": [
       "['/scratch/opodriscoll/data/ERA5/2020_temperature.zarr',\n",
       " '/scratch/opodriscoll/data/ERA5/2021_temperature.zarr']"
      ]
     },
     "execution_count": 5,
     "metadata": {},
     "output_type": "execute_result"
    }
   ],
   "source": [
    "list_files = glob.glob(str(data_dir) + \"/*02?_temperature.zarr\") # for temperature at pressure levels specifically\n",
    "# list_files = glob.glob(str(data_dir) + \"/*.zarr\")\n",
    "list_files.sort()\n",
    "list_files"
   ]
  },
  {
   "cell_type": "code",
   "execution_count": 6,
   "id": "531fdc91-aef4-4c33-899a-1d6cf9155ce1",
   "metadata": {},
   "outputs": [],
   "source": [
    "ds = xr.open_mfdataset(list_files, engine=\"zarr\", preprocess=preprocess_drop_coord)"
   ]
  }
 ],
 "metadata": {
  "kernelspec": {
   "display_name": "Python 3 (ipykernel)",
   "language": "python",
   "name": "python3"
  },
  "language_info": {
   "codemirror_mode": {
    "name": "ipython",
    "version": 3
   },
   "file_extension": ".py",
   "mimetype": "text/x-python",
   "name": "python",
   "nbconvert_exporter": "python",
   "pygments_lexer": "ipython3",
   "version": "3.11.0"
  }
 },
 "nbformat": 4,
 "nbformat_minor": 5
}
