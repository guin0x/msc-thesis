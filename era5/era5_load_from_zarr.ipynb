{
 "cells": [
  {
   "cell_type": "code",
   "execution_count": 1,
   "id": "dbe628f0-a511-4cd1-9298-af7658a19f61",
   "metadata": {
    "editable": true,
    "slideshow": {
     "slide_type": ""
    },
    "tags": []
   },
   "outputs": [],
   "source": [
    "import xarray as xr\n",
    "import numpy as np\n",
    "import dask\n",
    "import os\n",
    "import re\n",
    "import glob\n",
    "import matplotlib.pyplot as plt\n",
    "from pathlib import Path"
   ]
  },
  {
   "cell_type": "code",
   "execution_count": 2,
   "id": "4630b087-c4b4-4156-a52f-56be9a2bf585",
   "metadata": {},
   "outputs": [],
   "source": [
    "def file_filter(list_files: list[str], must_contain: str) -> list[str]:\n",
    "    return [file for file in list_files if re.search(must_contain,file)]"
   ]
  },
  {
   "cell_type": "code",
   "execution_count": 3,
   "id": "c8a6a945-baac-4a42-b28f-799c04eea118",
   "metadata": {},
   "outputs": [
    {
     "data": {
      "text/plain": [
       "['/scratch/opodriscoll/data/ERA5/2020_10m_u_component_of_wind.zarr',\n",
       " '/scratch/opodriscoll/data/ERA5/2020_significant_height_of_combined_wind_waves_and_swell.zarr',\n",
       " '/scratch/opodriscoll/data/ERA5/2020_mean_wave_period.zarr',\n",
       " '/scratch/opodriscoll/data/ERA5/2020_ocean_surface_stress_equivalent_10m_neutral_wind_direction.zarr',\n",
       " '/scratch/opodriscoll/data/ERA5/2020_2m_dewpoint_temperature.zarr',\n",
       " '/scratch/opodriscoll/data/ERA5/2020_mean_surface_downward_short_wave_radiation_flux.zarr',\n",
       " '/scratch/opodriscoll/data/ERA5/2020_peak_wave_period.zarr',\n",
       " '/scratch/opodriscoll/data/ERA5/2020_mean_surface_latent_heat_flux.zarr',\n",
       " '/scratch/opodriscoll/data/ERA5/2020_10m_v_component_of_wind.zarr',\n",
       " '/scratch/opodriscoll/data/ERA5/2020_mean_surface_sensible_heat_flux.zarr',\n",
       " '/scratch/opodriscoll/data/ERA5/2020_boundary_layer_heighttotal_precipitation.zarr',\n",
       " '/scratch/opodriscoll/data/ERA5/2020_ocean_surface_stress_equivalent_10m_neutral_wind_speed.zarr',\n",
       " '/scratch/opodriscoll/data/ERA5/2020_2m_temperature.zarr',\n",
       " '/scratch/opodriscoll/data/ERA5/2020_mean_sea_level_pressure.zarr',\n",
       " '/scratch/opodriscoll/data/ERA5/2020_sea_surface_temperature.zarr',\n",
       " '/scratch/opodriscoll/data/ERA5/2020_mean_surface_downward_long_wave_radiation_flux.zarr']"
      ]
     },
     "execution_count": 3,
     "metadata": {},
     "output_type": "execute_result"
    }
   ],
   "source": [
    "data_dir = \"/scratch/opodriscoll/data/ERA5/*.zarr\"\n",
    "year = \"2020\"\n",
    "list_files = glob.glob(str(data_dir))\n",
    "\n",
    "files = file_filter(list_files, must_contain=year)\n",
    "files"
   ]
  },
  {
   "cell_type": "code",
   "execution_count": 4,
   "id": "3cbd916f-99a3-4de8-a140-585f89e29168",
   "metadata": {},
   "outputs": [],
   "source": [
    "ds = xr.open_mfdataset(files, engine=\"zarr\")"
   ]
  },
  {
   "cell_type": "markdown",
   "id": "b42f33ab-8092-420c-846e-fc8ced790dd5",
   "metadata": {},
   "source": [
    "## 1.0 Generate some random points to test querrying .zarr"
   ]
  },
  {
   "cell_type": "code",
   "execution_count": 5,
   "id": "ce3299ca-2e26-42a9-98c4-a324d4189780",
   "metadata": {
    "editable": true,
    "slideshow": {
     "slide_type": ""
    },
    "tags": []
   },
   "outputs": [],
   "source": [
    "n_time = ds.sizes['valid_time']\n",
    "n_lat = ds.sizes['latitude']\n",
    "n_lon = ds.sizes['longitude']\n",
    "\n",
    "# Generate random indices to sample from\n",
    "n_samples = 100000\n",
    "random_time_idx = np.random.randint(0, n_time, n_samples)\n",
    "random_lat_idx = np.random.randint(0, n_lat, n_samples)\n",
    "random_lon_idx = np.random.randint(0, n_lon, n_samples)\n",
    "\n",
    "# Get the corresponding coordinate values for the random samples\n",
    "random_valid_times = ds['valid_time'].values[random_time_idx]\n",
    "random_latitudes = ds['latitude'].values[random_lat_idx]\n",
    "random_longitudes = ds['longitude'].values[random_lon_idx]"
   ]
  },
  {
   "cell_type": "code",
   "execution_count": 6,
   "id": "45ee4215-0c15-41cc-915d-b19e9ff9a221",
   "metadata": {
    "editable": true,
    "slideshow": {
     "slide_type": ""
    },
    "tags": []
   },
   "outputs": [
    {
     "name": "stdout",
     "output_type": "stream",
     "text": [
      "2min 39s ± 50.3 s per loop (mean ± std. dev. of 7 runs, 1 loop each)\n"
     ]
    }
   ],
   "source": [
    "%%timeit -n 1\n",
    "t = ds.sel(\n",
    "    valid_time=xr.DataArray(random_valid_times, dims='points'),\n",
    "    latitude=xr.DataArray(random_latitudes, dims='points'),\n",
    "    longitude=xr.DataArray(random_longitudes, dims='points'),\n",
    "    method='nearest'\n",
    ").compute()\n",
    "t"
   ]
  },
  {
   "cell_type": "code",
   "execution_count": 12,
   "id": "4d8161fb-d67f-4846-914a-ae27da31ea52",
   "metadata": {},
   "outputs": [],
   "source": [
    "t = ds.sel(\n",
    "    valid_time=xr.DataArray(random_valid_times, dims='points'),\n",
    "    latitude=xr.DataArray(random_latitudes, dims='points'),\n",
    "    longitude=xr.DataArray(random_longitudes, dims='points'),\n",
    "    method='nearest'\n",
    ").compute()"
   ]
  },
  {
   "cell_type": "markdown",
   "id": "8dd76439-2141-4c50-8ab0-4d41d1e8ee26",
   "metadata": {},
   "source": [
    "## 2.0 Apply COARE"
   ]
  },
  {
   "cell_type": "code",
   "execution_count": 13,
   "id": "5ca84dec-d1a8-4a13-89d8-08d296c59fda",
   "metadata": {},
   "outputs": [],
   "source": [
    "from pycoare import coare_35\n",
    "from CMOD_analysis.arden_buck import arden_buck\n",
    "from CMOD_analysis.era5_processing import Kelvin2Celcius, period2PhaseSpeed, Pascal2mBar"
   ]
  },
  {
   "cell_type": "code",
   "execution_count": 8,
   "id": "25d8e82a-0246-470f-90b6-09e298e4fb44",
   "metadata": {},
   "outputs": [
    {
     "data": {
      "text/plain": [
       "\u001b[0;31mInit signature:\u001b[0m\n",
       "\u001b[0mcoare_35\u001b[0m\u001b[0;34m(\u001b[0m\u001b[0;34m\u001b[0m\n",
       "\u001b[0;34m\u001b[0m    \u001b[0mu\u001b[0m\u001b[0;34m:\u001b[0m \u001b[0;34m'ArrayLike'\u001b[0m\u001b[0;34m,\u001b[0m\u001b[0;34m\u001b[0m\n",
       "\u001b[0;34m\u001b[0m    \u001b[0mt\u001b[0m\u001b[0;34m:\u001b[0m \u001b[0;34m'ArrayLike'\u001b[0m \u001b[0;34m=\u001b[0m \u001b[0;34m[\u001b[0m\u001b[0;36m10.0\u001b[0m\u001b[0;34m]\u001b[0m\u001b[0;34m,\u001b[0m\u001b[0;34m\u001b[0m\n",
       "\u001b[0;34m\u001b[0m    \u001b[0mrh\u001b[0m\u001b[0;34m:\u001b[0m \u001b[0;34m'ArrayLike'\u001b[0m \u001b[0;34m=\u001b[0m \u001b[0;34m[\u001b[0m\u001b[0;36m75.0\u001b[0m\u001b[0;34m]\u001b[0m\u001b[0;34m,\u001b[0m\u001b[0;34m\u001b[0m\n",
       "\u001b[0;34m\u001b[0m    \u001b[0mzu\u001b[0m\u001b[0;34m:\u001b[0m \u001b[0;34m'ArrayLike'\u001b[0m \u001b[0;34m=\u001b[0m \u001b[0;34m[\u001b[0m\u001b[0;36m10.0\u001b[0m\u001b[0;34m]\u001b[0m\u001b[0;34m,\u001b[0m\u001b[0;34m\u001b[0m\n",
       "\u001b[0;34m\u001b[0m    \u001b[0mzt\u001b[0m\u001b[0;34m:\u001b[0m \u001b[0;34m'ArrayLike'\u001b[0m \u001b[0;34m=\u001b[0m \u001b[0;34m[\u001b[0m\u001b[0;36m10.0\u001b[0m\u001b[0;34m]\u001b[0m\u001b[0;34m,\u001b[0m\u001b[0;34m\u001b[0m\n",
       "\u001b[0;34m\u001b[0m    \u001b[0mzq\u001b[0m\u001b[0;34m:\u001b[0m \u001b[0;34m'ArrayLike'\u001b[0m \u001b[0;34m=\u001b[0m \u001b[0;34m[\u001b[0m\u001b[0;36m10.0\u001b[0m\u001b[0;34m]\u001b[0m\u001b[0;34m,\u001b[0m\u001b[0;34m\u001b[0m\n",
       "\u001b[0;34m\u001b[0m    \u001b[0mzrf\u001b[0m\u001b[0;34m:\u001b[0m \u001b[0;34m'ArrayLike'\u001b[0m \u001b[0;34m=\u001b[0m \u001b[0;34m[\u001b[0m\u001b[0;36m10.0\u001b[0m\u001b[0;34m]\u001b[0m\u001b[0;34m,\u001b[0m\u001b[0;34m\u001b[0m\n",
       "\u001b[0;34m\u001b[0m    \u001b[0mus\u001b[0m\u001b[0;34m:\u001b[0m \u001b[0;34m'ArrayLike'\u001b[0m \u001b[0;34m=\u001b[0m \u001b[0;34m[\u001b[0m\u001b[0;36m0.0\u001b[0m\u001b[0;34m]\u001b[0m\u001b[0;34m,\u001b[0m\u001b[0;34m\u001b[0m\n",
       "\u001b[0;34m\u001b[0m    \u001b[0mts\u001b[0m\u001b[0;34m:\u001b[0m \u001b[0;34m'ArrayLike'\u001b[0m \u001b[0;34m=\u001b[0m \u001b[0;34m[\u001b[0m\u001b[0;36m10.0\u001b[0m\u001b[0;34m]\u001b[0m\u001b[0;34m,\u001b[0m\u001b[0;34m\u001b[0m\n",
       "\u001b[0;34m\u001b[0m    \u001b[0mp\u001b[0m\u001b[0;34m:\u001b[0m \u001b[0;34m'ArrayLike'\u001b[0m \u001b[0;34m=\u001b[0m \u001b[0;34m[\u001b[0m\u001b[0;36m1015.0\u001b[0m\u001b[0;34m]\u001b[0m\u001b[0;34m,\u001b[0m\u001b[0;34m\u001b[0m\n",
       "\u001b[0;34m\u001b[0m    \u001b[0mlat\u001b[0m\u001b[0;34m:\u001b[0m \u001b[0;34m'ArrayLike'\u001b[0m \u001b[0;34m=\u001b[0m \u001b[0;34m[\u001b[0m\u001b[0;36m45.0\u001b[0m\u001b[0;34m]\u001b[0m\u001b[0;34m,\u001b[0m\u001b[0;34m\u001b[0m\n",
       "\u001b[0;34m\u001b[0m    \u001b[0mzi\u001b[0m\u001b[0;34m:\u001b[0m \u001b[0;34m'ArrayLike'\u001b[0m \u001b[0;34m=\u001b[0m \u001b[0;34m[\u001b[0m\u001b[0;36m600.0\u001b[0m\u001b[0;34m]\u001b[0m\u001b[0;34m,\u001b[0m\u001b[0;34m\u001b[0m\n",
       "\u001b[0;34m\u001b[0m    \u001b[0mrs\u001b[0m\u001b[0;34m:\u001b[0m \u001b[0;34m'ArrayLike'\u001b[0m \u001b[0;34m=\u001b[0m \u001b[0;34m[\u001b[0m\u001b[0;36m150.0\u001b[0m\u001b[0;34m]\u001b[0m\u001b[0;34m,\u001b[0m\u001b[0;34m\u001b[0m\n",
       "\u001b[0;34m\u001b[0m    \u001b[0mrl\u001b[0m\u001b[0;34m:\u001b[0m \u001b[0;34m'ArrayLike'\u001b[0m \u001b[0;34m=\u001b[0m \u001b[0;34m[\u001b[0m\u001b[0;36m370.0\u001b[0m\u001b[0;34m]\u001b[0m\u001b[0;34m,\u001b[0m\u001b[0;34m\u001b[0m\n",
       "\u001b[0;34m\u001b[0m    \u001b[0mrain\u001b[0m\u001b[0;34m:\u001b[0m \u001b[0;34m'ArrayLike'\u001b[0m \u001b[0;34m=\u001b[0m \u001b[0;32mNone\u001b[0m\u001b[0;34m,\u001b[0m\u001b[0;34m\u001b[0m\n",
       "\u001b[0;34m\u001b[0m    \u001b[0mcp\u001b[0m\u001b[0;34m:\u001b[0m \u001b[0;34m'ArrayLike'\u001b[0m \u001b[0;34m=\u001b[0m \u001b[0;32mNone\u001b[0m\u001b[0;34m,\u001b[0m\u001b[0;34m\u001b[0m\n",
       "\u001b[0;34m\u001b[0m    \u001b[0msigH\u001b[0m\u001b[0;34m:\u001b[0m \u001b[0;34m'ArrayLike'\u001b[0m \u001b[0;34m=\u001b[0m \u001b[0;32mNone\u001b[0m\u001b[0;34m,\u001b[0m\u001b[0;34m\u001b[0m\n",
       "\u001b[0;34m\u001b[0m    \u001b[0mjcool\u001b[0m\u001b[0;34m:\u001b[0m \u001b[0;34m'int'\u001b[0m \u001b[0;34m=\u001b[0m \u001b[0;36m1.0\u001b[0m\u001b[0;34m,\u001b[0m\u001b[0;34m\u001b[0m\n",
       "\u001b[0;34m\u001b[0m    \u001b[0mnits\u001b[0m\u001b[0;34m:\u001b[0m \u001b[0;34m'int'\u001b[0m \u001b[0;34m=\u001b[0m \u001b[0;36m10\u001b[0m\u001b[0;34m,\u001b[0m\u001b[0;34m\u001b[0m\n",
       "\u001b[0;34m\u001b[0m\u001b[0;34m)\u001b[0m \u001b[0;34m->\u001b[0m \u001b[0;34m'None'\u001b[0m\u001b[0;34m\u001b[0m\u001b[0;34m\u001b[0m\u001b[0m\n",
       "\u001b[0;31mDocstring:\u001b[0m     \n",
       ":param u: ocean surface wind speed (m/s) at height zu\n",
       ":type u: ArrayLike\n",
       ":param t: bulk air temperature (degC) at height zt\n",
       ":type t: ArrayLike, optional\n",
       ":param rh: relative humidity (%) at height zq\n",
       ":type rh: ArrayLike, optional\n",
       ":param zu: wind sensor height (m)\n",
       ":type zu: ArrayLike, optional\n",
       ":param zt: bulk air temperature sensor height (m)\n",
       ":type zt: ArrayLike, optional\n",
       ":param zq: relative humidity sensory height (m)\n",
       ":type zq: ArrayLike, optional\n",
       ":param zrf: reference height (m)\n",
       ":type zrf: ArrayLike, optional\n",
       ":param us: ocean surface currents (m/s) (defaults to zero, i.e., u is relative wind speed)\n",
       ":type us: ArrayLike, optional\n",
       ":param ts: sea water temperature (degC) (also see jcool)\n",
       ":type ts: ArrayLike, optional\n",
       ":param p: surface air pressure (mb)\n",
       ":type p: ArrayLike, optional\n",
       ":param lat: latitude (deg)\n",
       ":type lat: ArrayLike, optional\n",
       ":param zi: planetary boundary layer height (m)\n",
       ":type zi: ArrayLike, optional\n",
       ":param rs: downward shortwave radiation (W/m^2)\n",
       ":type rs: ArrayLike, optional\n",
       ":param rl: downward longwave radiation (W/m^2)\n",
       ":type rl: ArrayLike, optional\n",
       ":param rain: rain rate (mm/hr)\n",
       ":type rain: ArrayLike, optional\n",
       ":param cp: phase speed of dominant waves (m/s)\n",
       ":type cp: ArrayLike, optional\n",
       ":param sigH: significant wave height (m)\n",
       ":type sigH: ArrayLike, optional\n",
       ":param jcool: cool skin option, 1 if ts is bulk ocean temperature, 0 if ts is ocean skin temperature\n",
       ":type jcool: int, optional\n",
       ":param nits: number of iterations of bulk flux loop\n",
       ":type nits: int, optional\n",
       ":ivar fluxes: instance of the :class:`fluxes` class\n",
       ":ivar transfer_coefficients: instance of the :class:`transfer_coefficients` class\n",
       ":ivar stability_functions: instance of the :class:`stability_functions` class\n",
       ":ivar velocities: instance of the :class:`velocities` class\n",
       ":ivar temperatures: instance of the :class:`temperatures` class\n",
       ":ivar humidities: instance of the :class:`humidities` class\n",
       ":ivar stability_parameters: instance of the :class:`stability_parameters` class\n",
       "\u001b[0;31mFile:\u001b[0m           /scratch/opodriscoll/envs/CMOD_analysis/lib/python3.12/site-packages/pycoare/coare_35.py\n",
       "\u001b[0;31mType:\u001b[0m           type\n",
       "\u001b[0;31mSubclasses:\u001b[0m     "
      ]
     },
     "metadata": {},
     "output_type": "display_data"
    }
   ],
   "source": [
    "?coare_35"
   ]
  },
  {
   "cell_type": "code",
   "execution_count": 14,
   "id": "16e7d52d-717b-475c-80c9-8d51b5139bb0",
   "metadata": {},
   "outputs": [],
   "source": [
    "c = coare_35(\n",
    "    u=t[\"wind\"],\n",
    "    t=Kelvin2Celcius(t[\"t2m\"]),\n",
    "    rh=arden_buck(Kelvin2Celcius(t[\"d2m\"]), Kelvin2Celcius(t[\"t2m\"]), p=Pascal2mBar(t[\"msl\"])),\n",
    "    zu=10,\n",
    "    zt=2,\n",
    "    zq=2, \n",
    "    zrf=10, \n",
    "    us=0, \n",
    "    ts=Kelvin2Celcius(t[\"sst\"]),\n",
    "    p=Pascal2mBar(t[\"msl\"]),\n",
    "    lat=t[\"latitude\"],\n",
    "    zi=t[\"blh\"],\n",
    "    rs=t[\"msdwswrf\"],\n",
    "    rl=t[\"msdwlwrf\"],\n",
    "    # rain: \n",
    "    cp=period2PhaseSpeed(t[\"pp1d\"]),\n",
    "    sigH=t[\"swh\"],\n",
    "    jcool = 1.0,\n",
    "    nits = 10,\n",
    ")"
   ]
  },
  {
   "cell_type": "code",
   "execution_count": 15,
   "id": "b7a19b18-4923-48dc-9657-892c84c0e520",
   "metadata": {},
   "outputs": [
    {
     "data": {
      "image/png": "[encoded data removed]",
      "text/plain": [
       "<Figure size 640x480 with 1 Axes>"
      ]
     },
     "metadata": {},
     "output_type": "display_data"
    }
   ],
   "source": [
    "delta = 0.1\n",
    "L = c.stability_parameters.obukL\n",
    "\n",
    "bins = np.concatenate((-10**np.arange(4, -4, -delta) , 10**np.arange(-4, 4, delta)))\n",
    "plt.hist(L, bins = bins)\n",
    "plt.gca().set_xscale(\"symlog\")"
   ]
  }
 ],
 "metadata": {
  "kernelspec": {
   "display_name": "msc-thesis",
   "language": "python",
   "name": "python3"
  },
  "language_info": {
   "codemirror_mode": {
    "name": "ipython",
    "version": 3
   },
   "file_extension": ".py",
   "mimetype": "text/x-python",
   "name": "python",
   "nbconvert_exporter": "python",
   "pygments_lexer": "ipython3",
   "version": "3.9.21"
  }
 },
 "nbformat": 4,
 "nbformat_minor": 5
}
